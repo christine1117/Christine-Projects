{
  "cells": [
    {
      "cell_type": "code",
      "execution_count": null,
      "id": "ZHwaJMQ_sylb",
      "metadata": {
        "colab": {
          "base_uri": "https://localhost:8080/"
        },
        "id": "ZHwaJMQ_sylb",
        "outputId": "b8c05131-e04f-4b4c-e6a4-7f1d90df4dc0"
      },
      "outputs": [
        {
          "output_type": "stream",
          "name": "stdout",
          "text": [
            "Requirement already satisfied: numpy in /usr/local/lib/python3.11/dist-packages (2.0.2)\n",
            "Requirement already satisfied: pandas in /usr/local/lib/python3.11/dist-packages (2.2.2)\n",
            "Requirement already satisfied: numpy>=1.23.2 in /usr/local/lib/python3.11/dist-packages (from pandas) (2.0.2)\n",
            "Requirement already satisfied: python-dateutil>=2.8.2 in /usr/local/lib/python3.11/dist-packages (from pandas) (2.8.2)\n",
            "Requirement already satisfied: pytz>=2020.1 in /usr/local/lib/python3.11/dist-packages (from pandas) (2025.1)\n",
            "Requirement already satisfied: tzdata>=2022.7 in /usr/local/lib/python3.11/dist-packages (from pandas) (2025.1)\n",
            "Requirement already satisfied: six>=1.5 in /usr/local/lib/python3.11/dist-packages (from python-dateutil>=2.8.2->pandas) (1.17.0)\n",
            "Requirement already satisfied: mlxtend in /usr/local/lib/python3.11/dist-packages (0.23.4)\n",
            "Requirement already satisfied: scipy>=1.2.1 in /usr/local/lib/python3.11/dist-packages (from mlxtend) (1.14.1)\n",
            "Requirement already satisfied: numpy>=1.16.2 in /usr/local/lib/python3.11/dist-packages (from mlxtend) (2.0.2)\n",
            "Requirement already satisfied: pandas>=0.24.2 in /usr/local/lib/python3.11/dist-packages (from mlxtend) (2.2.2)\n",
            "Requirement already satisfied: scikit-learn>=1.3.1 in /usr/local/lib/python3.11/dist-packages (from mlxtend) (1.6.1)\n",
            "Requirement already satisfied: matplotlib>=3.0.0 in /usr/local/lib/python3.11/dist-packages (from mlxtend) (3.10.0)\n",
            "Requirement already satisfied: joblib>=0.13.2 in /usr/local/lib/python3.11/dist-packages (from mlxtend) (1.4.2)\n",
            "Requirement already satisfied: contourpy>=1.0.1 in /usr/local/lib/python3.11/dist-packages (from matplotlib>=3.0.0->mlxtend) (1.3.1)\n",
            "Requirement already satisfied: cycler>=0.10 in /usr/local/lib/python3.11/dist-packages (from matplotlib>=3.0.0->mlxtend) (0.12.1)\n",
            "Requirement already satisfied: fonttools>=4.22.0 in /usr/local/lib/python3.11/dist-packages (from matplotlib>=3.0.0->mlxtend) (4.56.0)\n",
            "Requirement already satisfied: kiwisolver>=1.3.1 in /usr/local/lib/python3.11/dist-packages (from matplotlib>=3.0.0->mlxtend) (1.4.8)\n",
            "Requirement already satisfied: packaging>=20.0 in /usr/local/lib/python3.11/dist-packages (from matplotlib>=3.0.0->mlxtend) (24.2)\n",
            "Requirement already satisfied: pillow>=8 in /usr/local/lib/python3.11/dist-packages (from matplotlib>=3.0.0->mlxtend) (11.1.0)\n",
            "Requirement already satisfied: pyparsing>=2.3.1 in /usr/local/lib/python3.11/dist-packages (from matplotlib>=3.0.0->mlxtend) (3.2.1)\n",
            "Requirement already satisfied: python-dateutil>=2.7 in /usr/local/lib/python3.11/dist-packages (from matplotlib>=3.0.0->mlxtend) (2.8.2)\n",
            "Requirement already satisfied: pytz>=2020.1 in /usr/local/lib/python3.11/dist-packages (from pandas>=0.24.2->mlxtend) (2025.1)\n",
            "Requirement already satisfied: tzdata>=2022.7 in /usr/local/lib/python3.11/dist-packages (from pandas>=0.24.2->mlxtend) (2025.1)\n",
            "Requirement already satisfied: threadpoolctl>=3.1.0 in /usr/local/lib/python3.11/dist-packages (from scikit-learn>=1.3.1->mlxtend) (3.6.0)\n",
            "Requirement already satisfied: six>=1.5 in /usr/local/lib/python3.11/dist-packages (from python-dateutil>=2.7->matplotlib>=3.0.0->mlxtend) (1.17.0)\n"
          ]
        }
      ],
      "source": [
        "!pip install numpy\n",
        "!pip install pandas\n",
        "!pip install mlxtend"
      ]
    },
    {
      "cell_type": "code",
      "execution_count": null,
      "id": "ea4864d9",
      "metadata": {
        "id": "ea4864d9"
      },
      "outputs": [],
      "source": [
        "import numpy as np\n",
        "import os\n",
        "import pandas as pd\n",
        "import time\n",
        "\n",
        "from mlxtend.preprocessing import TransactionEncoder\n",
        "from mlxtend.frequent_patterns import apriori\n",
        "from mlxtend.frequent_patterns import fpgrowth\n",
        "from mlxtend.frequent_patterns import association_rules"
      ]
    },
    {
      "cell_type": "markdown",
      "id": "1ea2e777-261c-4513-93a0-60c373d04326",
      "metadata": {
        "id": "1ea2e777-261c-4513-93a0-60c373d04326"
      },
      "source": [
        "# Input and Data Preprocessing"
      ]
    },
    {
      "cell_type": "markdown",
      "id": "0c2acee2-bd68-4212-91cb-c72262a4c133",
      "metadata": {
        "id": "0c2acee2-bd68-4212-91cb-c72262a4c133"
      },
      "source": [
        "## Data: transactions"
      ]
    },
    {
      "cell_type": "code",
      "execution_count": null,
      "id": "0ff4f9bf-9be7-472c-8c22-169c0859026b",
      "metadata": {
        "id": "0ff4f9bf-9be7-472c-8c22-169c0859026b"
      },
      "outputs": [],
      "source": [
        "# input: transactions\n",
        "df_trans = pd.read_csv('FoodMart-Transactions-1998.csv')"
      ]
    },
    {
      "cell_type": "code",
      "execution_count": null,
      "id": "cf607d25",
      "metadata": {
        "id": "cf607d25",
        "scrolled": true
      },
      "outputs": [],
      "source": [
        "df_trans.head()"
      ]
    },
    {
      "cell_type": "code",
      "execution_count": null,
      "id": "1eda8638-f6f3-4976-be07-57afdedb0f24",
      "metadata": {
        "id": "1eda8638-f6f3-4976-be07-57afdedb0f24"
      },
      "outputs": [],
      "source": [
        "df_trans[\"product_id\"].value_counts()"
      ]
    },
    {
      "cell_type": "code",
      "execution_count": null,
      "id": "e8d14470-c7e1-494c-8179-6b3f8b82357a",
      "metadata": {
        "id": "e8d14470-c7e1-494c-8179-6b3f8b82357a"
      },
      "outputs": [],
      "source": [
        "df_trans[\"customer_id\"].value_counts()"
      ]
    },
    {
      "cell_type": "markdown",
      "id": "0c423670-1f27-468b-83be-d87a86cfaabf",
      "metadata": {
        "id": "0c423670-1f27-468b-83be-d87a86cfaabf"
      },
      "source": [
        "### Data Transformation"
      ]
    },
    {
      "cell_type": "code",
      "execution_count": null,
      "id": "cdbd0e49",
      "metadata": {
        "id": "cdbd0e49"
      },
      "outputs": [],
      "source": [
        "trans_dataset = df_trans.groupby([\"customer_id\",\"transaction_date\"])['product_id'].apply(list)"
      ]
    },
    {
      "cell_type": "code",
      "execution_count": null,
      "id": "50bcfe39",
      "metadata": {
        "id": "50bcfe39"
      },
      "outputs": [],
      "source": [
        "trans_dataset"
      ]
    },
    {
      "cell_type": "code",
      "execution_count": null,
      "id": "99cd9beb",
      "metadata": {
        "id": "99cd9beb"
      },
      "outputs": [],
      "source": [
        "raw_transactions = list(trans_dataset)"
      ]
    },
    {
      "cell_type": "code",
      "execution_count": null,
      "id": "81edea5c-d65b-49f5-8597-4cea29b76ae7",
      "metadata": {
        "id": "81edea5c-d65b-49f5-8597-4cea29b76ae7"
      },
      "outputs": [],
      "source": [
        "raw_transactions[:5]"
      ]
    },
    {
      "cell_type": "markdown",
      "id": "4bdec22a-86cf-403d-86a8-33e11aae3170",
      "metadata": {
        "id": "4bdec22a-86cf-403d-86a8-33e11aae3170"
      },
      "source": [
        "### Transaction encoding for Lib: mlxtend"
      ]
    },
    {
      "cell_type": "code",
      "execution_count": null,
      "id": "5dc0e2ee",
      "metadata": {
        "id": "5dc0e2ee"
      },
      "outputs": [],
      "source": [
        "te = TransactionEncoder()\n",
        "te_trans = te.fit(raw_transactions).transform(raw_transactions) #轉為布林值"
      ]
    },
    {
      "cell_type": "code",
      "execution_count": null,
      "id": "5e8f4388-adcb-419b-a746-d4d4e755c1bc",
      "metadata": {
        "id": "5e8f4388-adcb-419b-a746-d4d4e755c1bc",
        "scrolled": true
      },
      "outputs": [],
      "source": [
        "print(type(te_trans))\n",
        "print(te_trans.shape)\n",
        "te_trans"
      ]
    },
    {
      "cell_type": "code",
      "execution_count": null,
      "id": "c61d5af6-5f75-4358-9a89-fe4f422a513d",
      "metadata": {
        "id": "c61d5af6-5f75-4358-9a89-fe4f422a513d"
      },
      "outputs": [],
      "source": [
        "# product_id\n",
        "te.columns_[:10]"
      ]
    },
    {
      "cell_type": "markdown",
      "id": "d5675b91-ff52-42d3-835e-5fe73b35cec4",
      "metadata": {
        "id": "d5675b91-ff52-42d3-835e-5fe73b35cec4"
      },
      "source": [
        "## Data: product"
      ]
    },
    {
      "cell_type": "code",
      "execution_count": null,
      "id": "e1f12de0-518f-4c54-a523-3cf97195efff",
      "metadata": {
        "id": "e1f12de0-518f-4c54-a523-3cf97195efff"
      },
      "outputs": [],
      "source": [
        "# input: products\n",
        "df_prod = pd.read_csv('Product-Lookup.csv')"
      ]
    },
    {
      "cell_type": "code",
      "execution_count": null,
      "id": "5bc05fd2",
      "metadata": {
        "id": "5bc05fd2",
        "scrolled": true
      },
      "outputs": [],
      "source": [
        "df_prod.head()"
      ]
    },
    {
      "cell_type": "code",
      "source": [
        "df_prod.shape"
      ],
      "metadata": {
        "id": "FLurnOKmTFcb"
      },
      "id": "FLurnOKmTFcb",
      "execution_count": null,
      "outputs": []
    },
    {
      "cell_type": "markdown",
      "id": "5834eae7-6615-437c-bd57-4177a0190956",
      "metadata": {
        "id": "5834eae7-6615-437c-bd57-4177a0190956"
      },
      "source": [
        "### Filtering"
      ]
    },
    {
      "cell_type": "code",
      "execution_count": null,
      "id": "909bb249-1b51-4842-9e81-0b6325e12b43",
      "metadata": {
        "id": "909bb249-1b51-4842-9e81-0b6325e12b43",
        "scrolled": true
      },
      "outputs": [],
      "source": [
        "set(df_prod[\"product_id\"].unique()).difference(set(te.columns_))"
      ]
    },
    {
      "cell_type": "code",
      "execution_count": null,
      "id": "eaf6e649",
      "metadata": {
        "id": "eaf6e649"
      },
      "outputs": [],
      "source": [
        "df_prod = df_prod[df_prod[\"product_id\"].isin(te.columns_)]"
      ]
    },
    {
      "cell_type": "code",
      "execution_count": null,
      "id": "5d86fb84-1d21-4de7-82af-90824900ae65",
      "metadata": {
        "id": "5d86fb84-1d21-4de7-82af-90824900ae65"
      },
      "outputs": [],
      "source": [
        "df_prod.shape"
      ]
    },
    {
      "cell_type": "markdown",
      "id": "2b658760-f2ce-4ec8-a3d9-39bac5aa6418",
      "metadata": {
        "id": "2b658760-f2ce-4ec8-a3d9-39bac5aa6418"
      },
      "source": [
        "### Data preprocessing"
      ]
    },
    {
      "cell_type": "code",
      "execution_count": null,
      "id": "4bfc3dd0",
      "metadata": {
        "id": "4bfc3dd0"
      },
      "outputs": [],
      "source": [
        "df_te = pd.DataFrame(te_trans, columns = df_prod['product_name'])"
      ]
    },
    {
      "cell_type": "code",
      "execution_count": null,
      "id": "5941f682",
      "metadata": {
        "id": "5941f682"
      },
      "outputs": [],
      "source": [
        "print(df_te.shape)\n",
        "df_te.head()"
      ]
    },
    {
      "cell_type": "markdown",
      "id": "8be586a9-3ccd-4fa6-99a1-156649958716",
      "metadata": {
        "id": "8be586a9-3ccd-4fa6-99a1-156649958716"
      },
      "source": [
        "# Association Analysis"
      ]
    },
    {
      "cell_type": "markdown",
      "id": "9400ac89-8278-4603-9271-07f884b1c2fe",
      "metadata": {
        "id": "9400ac89-8278-4603-9271-07f884b1c2fe"
      },
      "source": [
        "## Threshold setting"
      ]
    },
    {
      "cell_type": "code",
      "execution_count": null,
      "id": "4e0f39fe-688e-4b81-aca6-0b2bed0791c5",
      "metadata": {
        "id": "4e0f39fe-688e-4b81-aca6-0b2bed0791c5"
      },
      "outputs": [],
      "source": [
        "min_sup = 0.00015\n",
        "min_conf = 0.8"
      ]
    },
    {
      "cell_type": "code",
      "execution_count": null,
      "id": "9c6a2c32-ab65-4ee8-a91c-c545ffa6fffb",
      "metadata": {
        "id": "9c6a2c32-ab65-4ee8-a91c-c545ffa6fffb"
      },
      "outputs": [],
      "source": [
        "support_count = min_sup*df_te.shape[0]\n",
        "print(support_count)"
      ]
    },
    {
      "cell_type": "markdown",
      "id": "f40f8152-6989-4948-bb46-5008c77c3f38",
      "metadata": {
        "id": "f40f8152-6989-4948-bb46-5008c77c3f38"
      },
      "source": [
        "## Frequent pattern/itemset discovering"
      ]
    },
    {
      "cell_type": "code",
      "execution_count": null,
      "id": "83a0de3f",
      "metadata": {
        "id": "83a0de3f"
      },
      "outputs": [],
      "source": [
        "start_time = time.time()\n",
        "frequent_itemsets = fpgrowth(df_te, min_support = min_sup, use_colnames = True)\n",
        "#frequent_itemsets = fpgrowth(df_te, min_support = min_sup, use_colnames = True)\n",
        "end_time = time.time()\n",
        "print(str(end_time - start_time) + \" seconds\")"
      ]
    },
    {
      "cell_type": "code",
      "execution_count": null,
      "id": "7565d545",
      "metadata": {
        "id": "7565d545"
      },
      "outputs": [],
      "source": [
        "frequent_itemsets.sort_values(by=[\"support\"], ascending = False)"
      ]
    },
    {
      "cell_type": "markdown",
      "id": "26707127-58a8-4033-a286-6b089da9b82b",
      "metadata": {
        "id": "26707127-58a8-4033-a286-6b089da9b82b"
      },
      "source": [
        "## Association rule discovering"
      ]
    },
    {
      "cell_type": "code",
      "source": [
        "rules_confidence_10 = association_rules(frequent_itemsets, metric=\"confidence\", min_threshold=min_conf).sort_values(by='confidence', ascending=False)"
      ],
      "metadata": {
        "id": "HPEpbzMAlE9e"
      },
      "id": "HPEpbzMAlE9e",
      "execution_count": null,
      "outputs": []
    },
    {
      "cell_type": "code",
      "source": [
        "rules_confidence_10.head(10)"
      ],
      "metadata": {
        "id": "PVo3HYailF5b"
      },
      "id": "PVo3HYailF5b",
      "execution_count": null,
      "outputs": []
    },
    {
      "cell_type": "code",
      "execution_count": null,
      "id": "14243f47",
      "metadata": {
        "id": "14243f47",
        "scrolled": true
      },
      "outputs": [],
      "source": [
        "rules_lift_10 = association_rules(frequent_itemsets, metric=\"confidence\", min_threshold=min_conf).sort_values(by='lift', ascending=False)"
      ]
    },
    {
      "cell_type": "code",
      "execution_count": null,
      "id": "9e99fdb1",
      "metadata": {
        "id": "9e99fdb1"
      },
      "outputs": [],
      "source": [
        "rules_lift_10.head(10)"
      ]
    },
    {
      "cell_type": "markdown",
      "id": "a8f89219-db56-4bfa-b140-bb36c721d7bb",
      "metadata": {
        "id": "a8f89219-db56-4bfa-b140-bb36c721d7bb"
      },
      "source": [
        "# Customer"
      ]
    },
    {
      "cell_type": "markdown",
      "source": [
        "以下程式碼使用colab內建生成"
      ],
      "metadata": {
        "id": "3tfF8NtMV-zB"
      },
      "id": "3tfF8NtMV-zB"
    },
    {
      "cell_type": "code",
      "execution_count": null,
      "id": "30ba6a2c-89a7-48db-a21c-016538cac7d7",
      "metadata": {
        "id": "30ba6a2c-89a7-48db-a21c-016538cac7d7"
      },
      "outputs": [],
      "source": [
        "df_cust = pd.read_csv('Customer-Lookup.csv')"
      ]
    },
    {
      "cell_type": "code",
      "execution_count": null,
      "id": "c922936b-e673-41a4-a7f2-76d9bb0cea1d",
      "metadata": {
        "id": "c922936b-e673-41a4-a7f2-76d9bb0cea1d"
      },
      "outputs": [],
      "source": [
        "\n",
        "# Select relevant customer attributes\n",
        "customer_attributes = ['customer_state_province', 'yearly_income', 'gender', 'total_children', 'num_children_at_home', 'education', 'occupation', 'homeowner']\n",
        "df_cust_selected = df_cust[customer_attributes]\n",
        "\n",
        "df_cust_selected['total_children'] = df_cust_selected['total_children'].apply(lambda x: f'total_children_{x}')\n",
        "df_cust_selected['num_children_at_home'] = df_cust_selected['num_children_at_home'].apply(lambda x: f'num_children_at_home_{x}')\n",
        "\n",
        "# Convert homeowner column into \"homeowner_yes\" and \"homeowner_no\"\n",
        "df_cust_selected['homeowner'] = df_cust_selected['homeowner'].apply(lambda x: 'homeowner_yes' if x == 'Y' else 'homeowner_no')\n",
        "\n",
        "# Convert attributes to strings for transaction encoding\n",
        "for col in df_cust_selected.columns:\n",
        "  df_cust_selected[col] = df_cust_selected[col].astype(str)\n",
        "\n",
        "\n",
        "\n",
        "# Create transactions (each row represents a customer)\n",
        "transactions = df_cust_selected.values.tolist()\n",
        "\n",
        "# Transform transactions into a suitable format\n",
        "te = TransactionEncoder()\n",
        "te_ary = te.fit(transactions).transform(transactions)\n",
        "df_encoded = pd.DataFrame(te_ary, columns=te.columns_)\n",
        "\n",
        "\n",
        "# Apply apriori algorithm\n",
        "frequent_itemsets = apriori(df_encoded, min_support=0.05, use_colnames=True)\n",
        "\n",
        "# Generate association rules\n",
        "cust_10_rules = association_rules(frequent_itemsets, metric=\"confidence\", min_threshold=0.9).sort_values(by='lift', ascending=False).head(10)\n",
        "\n",
        "cust_10_rules\n",
        "\n"
      ]
    },
    {
      "cell_type": "code",
      "source": [
        "import pandas as pd\n",
        "from google.colab import files\n",
        "\n",
        "# 假設你的 DataFrame 叫做 df\n",
        "# 儲存 DataFrame 為 CSV 檔案\n",
        "cust_10_rules.to_csv('your_data.csv', index=False)\n",
        "\n",
        "# 下載該檔案到本地\n",
        "files.download('your_data.csv')"
      ],
      "metadata": {
        "id": "rW1gWtQig-5m"
      },
      "id": "rW1gWtQig-5m",
      "execution_count": null,
      "outputs": []
    },
    {
      "cell_type": "markdown",
      "source": [
        "# Product"
      ],
      "metadata": {
        "id": "iAXpvZYtKnOW"
      },
      "id": "iAXpvZYtKnOW"
    },
    {
      "cell_type": "markdown",
      "source": [
        "以下程式碼使用ChatGp4生成\n",
        "\n",
        "*   提詞: 請寫出每個月的總產品量、交易次數的程式碼，並畫出相對應圖表\n",
        "\n",
        "\n"
      ],
      "metadata": {
        "id": "ismYH5r1WL9u"
      },
      "id": "ismYH5r1WL9u"
    },
    {
      "cell_type": "code",
      "source": [
        "import pandas as pd\n",
        "import matplotlib.pyplot as plt\n",
        "import seaborn as sns\n",
        "\n",
        "# 確保 transaction_date 是 datetime 格式\n",
        "df_trans[\"transaction_date\"] = pd.to_datetime(df_trans[\"transaction_date\"])\n",
        "\n",
        "# 創建月份欄位，使用數字格式的月份\n",
        "df_trans[\"month\"] = df_trans[\"transaction_date\"].dt.month\n",
        "\n",
        "# 計算每個月的總產品數量（考慮 quantity）\n",
        "monthly_product_count = df_trans.groupby(\"month\")[\"quantity\"].sum()\n",
        "\n",
        "# 計算每個月的交易次數（交易數量）\n",
        "monthly_transaction_count = df_trans.groupby(\"month\")[\"transaction_date\"].count()\n",
        "\n",
        "# 整理成 DataFrame\n",
        "monthly_summary = pd.DataFrame({\n",
        "    \"total_products_sold\": monthly_product_count,\n",
        "    \"total_transactions\": monthly_transaction_count\n",
        "})\n",
        "\n",
        "# 確保按月份排序\n",
        "monthly_summary = monthly_summary.sort_index()\n",
        "\n",
        "# 顯示結果\n",
        "print(monthly_summary)\n",
        "\n",
        "# 設定 Seaborn 風格\n",
        "sns.set(style=\"whitegrid\")\n",
        "\n",
        "\n",
        "plt.figure(figsize=(10, 6))\n",
        "\n",
        "# 畫出總產品數量\n",
        "plt.plot(monthly_summary.index, monthly_summary['total_products_sold'], label='Total Products Sold', marker='o', color='b', linestyle='-', linewidth=2)\n",
        "\n",
        "# 畫出交易次數\n",
        "plt.plot(monthly_summary.index, monthly_summary['total_transactions'], label='Total Transactions', marker='s', color='g', linestyle='-', linewidth=2)\n",
        "\n",
        "# 添加標題和標籤\n",
        "plt.title('Monthly Product Sales and Transaction Counts', fontsize=16)\n",
        "plt.xlabel('Month', fontsize=12)\n",
        "plt.ylabel('Count', fontsize=12)\n",
        "\n",
        "# 顯示圖例\n",
        "plt.legend()\n",
        "\n",
        "# 設定 x 軸標籤為月份名稱\n",
        "month_names = ['Jan', 'Feb', 'Mar', 'Apr', 'May', 'Jun', 'Jul', 'Aug', 'Sep', 'Oct', 'Nov', 'Dec']\n",
        "plt.xticks(monthly_summary.index, month_names)  # 用月份數字索引來獲取對應的名稱\n",
        "\n",
        "plt.xticks(rotation=45)  # 讓 x 軸標籤更清晰\n",
        "\n",
        "# 顯示圖形\n",
        "plt.tight_layout()\n",
        "plt.show()\n"
      ],
      "metadata": {
        "id": "-gzgfBgOKo8m"
      },
      "id": "-gzgfBgOKo8m",
      "execution_count": null,
      "outputs": []
    },
    {
      "cell_type": "code",
      "source": [
        "import pandas as pd\n",
        "import matplotlib.pyplot as plt\n",
        "import seaborn as sns\n",
        "\n",
        "# 讀取交易數據\n",
        "df_trans[\"transaction_date\"] = pd.to_datetime(df_trans[\"transaction_date\"])\n",
        "df_trans[\"month\"] = df_trans[\"transaction_date\"].dt.strftime(\"%b\")  # 轉換為月份 (Jan, Feb, ...)\n",
        "\n",
        "# 讀取產品對照表\n",
        "df_products = pd.read_csv(\"Product-Lookup.csv\")\n",
        "\n",
        "# 確保 product_id 是相同的類型（避免數據類型不同而無法合併）\n",
        "df_trans[\"product_id\"] = df_trans[\"product_id\"].astype(str)\n",
        "df_products[\"product_id\"] = df_products[\"product_id\"].astype(str)\n",
        "\n",
        "df_trans = df_trans.drop(columns=[\"product_name\"], errors=\"ignore\")  # 先刪除可能已存在的 product_name\n",
        "\n",
        "# 合併產品名稱\n",
        "df_trans = df_trans.merge(df_products[[\"product_id\", \"product_name\"]], on=\"product_id\", how=\"left\")\n",
        "\n",
        "# 計算每個產品每個月的總銷量\n",
        "monthly_sales = df_trans.groupby([\"month\", \"product_name\"])[\"quantity\"].sum().reset_index()\n",
        "\n",
        "# 找出每個月銷量最高的產品\n",
        "top_products_df = monthly_sales.loc[monthly_sales.groupby(\"month\")[\"quantity\"].idxmax()]\n",
        "\n",
        "# 設定月份順序\n",
        "month_order = [\"Jan\", \"Feb\", \"Mar\", \"Apr\", \"May\", \"Jun\", \"Jul\", \"Aug\", \"Sep\", \"Oct\", \"Nov\", \"Dec\"]\n",
        "top_products_df[\"month\"] = pd.Categorical(top_products_df[\"month\"], categories=month_order, ordered=True)\n",
        "\n",
        "# 確保 `month` 按順序排列\n",
        "top_products_df = top_products_df.sort_values(\"month\")\n",
        "\n",
        "# 繪製折線圖（現在用 product_name）\n",
        "plt.figure(figsize=(12, 6))\n",
        "sns.lineplot(data=top_products_df, x=\"month\", y=\"quantity\", hue=\"product_name\",marker=\"o\", linewidth=2, color=\"b\")\n",
        "\n",
        "# 在每個數據點上標示銷量\n",
        "for index, row in top_products_df.iterrows():\n",
        "    plt.text(row[\"month\"], row[\"quantity\"], f\"{int(row['quantity'])}\", ha='center', va='bottom', fontsize=10, fontweight='bold')\n",
        "\n",
        "# 美化圖表\n",
        "plt.xlabel(\"Month\", fontsize=12)\n",
        "plt.ylabel(\"Total Quantity Sold\", fontsize=12)\n",
        "plt.title(\"Top-Selling Product in Each Month\", fontsize=14)\n",
        "plt.xticks(rotation=45)\n",
        "plt.grid(True)\n",
        "plt.legend(title=\"Product Name\", bbox_to_anchor=(1.05, 1), loc='upper left', borderaxespad=0)\n",
        "\n",
        "# 顯示圖表\n",
        "plt.show()\n"
      ],
      "metadata": {
        "id": "QCGbpOTFdyfm"
      },
      "id": "QCGbpOTFdyfm",
      "execution_count": null,
      "outputs": []
    },
    {
      "cell_type": "markdown",
      "source": [],
      "metadata": {
        "id": "Fw-3ePnCI8XP"
      },
      "id": "Fw-3ePnCI8XP"
    },
    {
      "cell_type": "code",
      "source": [
        "december_sales = df_trans[df_trans['month'] == \"Dec\"]\n",
        "june_sales = df_trans[df_trans['month'] == \"Jun\"]\n",
        "\n",
        "# 按產品ID統計12月和6月的銷量\n",
        "december_sales_sum = december_sales.groupby(['product_id', 'product_name'])['quantity'].sum().reset_index()\n",
        "june_sales_sum = june_sales.groupby(['product_id', 'product_name'])['quantity'].sum().reset_index()\n",
        "\n",
        "# 合併12月和6月的銷量\n",
        "sales_comparison = pd.merge(december_sales_sum, june_sales_sum, on=(['product_id', 'product_name']), suffixes=('_december', '_june'))\n",
        "\n",
        "# 計算12月銷量與6月銷量的比率 (12月銷量 / 6月銷量)\n",
        "sales_comparison['ratio'] = sales_comparison['quantity_december'] / sales_comparison['quantity_june']\n",
        "\n",
        "high_difference=sales_comparison.sort_values(by='ratio', ascending=False)\n",
        "\n",
        "high_difference.head(10)"
      ],
      "metadata": {
        "id": "m_DzVcOZI8fU"
      },
      "id": "m_DzVcOZI8fU",
      "execution_count": null,
      "outputs": []
    }
  ],
  "metadata": {
    "colab": {
      "provenance": []
    },
    "kernelspec": {
      "display_name": "Python 3",
      "name": "python3"
    },
    "language_info": {
      "codemirror_mode": {
        "name": "ipython",
        "version": 3
      },
      "file_extension": ".py",
      "mimetype": "text/x-python",
      "name": "python",
      "nbconvert_exporter": "python",
      "pygments_lexer": "ipython3",
      "version": "3.11.8"
    }
  },
  "nbformat": 4,
  "nbformat_minor": 5
}