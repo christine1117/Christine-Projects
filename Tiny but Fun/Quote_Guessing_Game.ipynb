{
  "nbformat": 4,
  "nbformat_minor": 0,
  "metadata": {
    "colab": {
      "provenance": []
    },
    "kernelspec": {
      "name": "python3",
      "display_name": "Python 3"
    },
    "language_info": {
      "name": "python"
    }
  },
  "cells": [
    {
      "cell_type": "markdown",
      "source": [
        "## Quote Guessing Game"
      ],
      "metadata": {
        "id": "x1eXbh36kgO3"
      }
    },
    {
      "cell_type": "code",
      "execution_count": null,
      "metadata": {
        "id": "7Y4Wp5fJY_qz"
      },
      "outputs": [],
      "source": [
        "import requests\n",
        "from bs4 import BeautifulSoup\n",
        "from random import choice\n",
        "from csv import DictReader"
      ]
    },
    {
      "cell_type": "code",
      "source": [
        "url = \"https://quotes.toscrape.com/\"\n",
        "response = requests.get(url)\n",
        "soup = BeautifulSoup(response.text, \"html.parser\")"
      ],
      "metadata": {
        "id": "NdZEsK9vZTqa"
      },
      "execution_count": null,
      "outputs": []
    },
    {
      "cell_type": "code",
      "source": [
        "quotes = []\n",
        "for quote in soup.find_all(\"div\", class_=\"quote\"):\n",
        "  text = quote.find(\"span\", class_=\"text\").text\n",
        "  author = quote.find(\"small\", class_=\"author\").text\n",
        "  link=quote.find(\"a\")[\"href\"]\n",
        "  quotes.append({\"text\": text, \"author\": author, \"bio_link\":link})"
      ],
      "metadata": {
        "id": "RPVwtWEhaNV_"
      },
      "execution_count": null,
      "outputs": []
    },
    {
      "cell_type": "code",
      "source": [
        "def playgame():\n",
        "  quote=choice(quotes)\n",
        "  print(quote[\"text\"])\n",
        "  author=quote[\"author\"]\n",
        "  res=requests.get(\"https://quotes.toscrape.com/\" + quote[\"bio_link\"])\n",
        "  guess=4\n",
        "  while guess>0 :\n",
        "    user_guess=input(f\"Who said this? {guess} times left\")\n",
        "    if user_guess.lower()==author.lower():\n",
        "      print(\"🎉 Correct! You win\")\n",
        "      break\n",
        "\n",
        "    guess-=1\n",
        "    if guess==3:\n",
        "      soup=BeautifulSoup(res.text,\"html.parser\")\n",
        "      birth_date=soup.find(\"span\",class_=\"author-born-date\").text\n",
        "      print(f\"Wrong! Here's the hint: This author was born on {birth_date}\")\n",
        "\n",
        "    elif guess==2:\n",
        "      soup=BeautifulSoup(res.text,\"html.parser\")\n",
        "      birth_place=soup.find(\"span\",class_=\"author-born-location\").text\n",
        "      print(f\"Wrong! Here's the hint: This author was born in {birth_place}\")\n",
        "\n",
        "    elif guess==1:\n",
        "      first_name_first_letter=author[0]\n",
        "      print(f\"Wrong! Here's the hint: This author's first name start with {first_name_first_letter}\")\n",
        "\n",
        "    else:\n",
        "      print(f\"Sorry, you ran out of guesses. The answer was {author}\")\n",
        "\n",
        "\n",
        "playgame()"
      ],
      "metadata": {
        "colab": {
          "base_uri": "https://localhost:8080/"
        },
        "id": "ZMyj90ujciBQ",
        "outputId": "cc7ea7a1-f67e-4f85-d082-8d422ee59dac"
      },
      "execution_count": null,
      "outputs": [
        {
          "output_type": "stream",
          "name": "stdout",
          "text": [
            "“There are only two ways to live your life. One is as though nothing is a miracle. The other is as though everything is a miracle.”\n",
            "Who said this? 4 times leftff\n",
            "Wrong! Here's the hint: Albert Einstein was born on March 14, 1879\n",
            "Who said this? 3 times leftAlbert Einstein\n",
            "🎉 Correct! You win\n"
          ]
        }
      ]
    }
  ]
}